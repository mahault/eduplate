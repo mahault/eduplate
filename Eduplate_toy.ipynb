{
  "nbformat": 4,
  "nbformat_minor": 0,
  "metadata": {
    "colab": {
      "provenance": [],
      "authorship_tag": "ABX9TyNu6Fj03la1TyklcJMDMxWh",
      "include_colab_link": true
    },
    "kernelspec": {
      "name": "python3",
      "display_name": "Python 3"
    },
    "language_info": {
      "name": "python"
    }
  },
  "cells": [
    {
      "cell_type": "markdown",
      "metadata": {
        "id": "view-in-github",
        "colab_type": "text"
      },
      "source": [
        "<a href=\"https://colab.research.google.com/github/mahault/eduplate/blob/main/Eduplate_toy.ipynb\" target=\"_parent\"><img src=\"https://colab.research.google.com/assets/colab-badge.svg\" alt=\"Open In Colab\"/></a>"
      ]
    },
    {
      "cell_type": "code",
      "source": [
        "!pip install pgmpy"
      ],
      "metadata": {
        "colab": {
          "base_uri": "https://localhost:8080/"
        },
        "id": "SFLo5vLnTz4N",
        "outputId": "17f30056-b0b1-4fe6-e1e1-2c95de0612c6"
      },
      "execution_count": 2,
      "outputs": [
        {
          "output_type": "stream",
          "name": "stdout",
          "text": [
            "Collecting pgmpy\n",
            "  Downloading pgmpy-0.1.25-py3-none-any.whl (2.0 MB)\n",
            "\u001b[?25l     \u001b[90m━━━━━━━━━━━━━━━━━━━━━━━━━━━━━━━━━━━━━━━━\u001b[0m \u001b[32m0.0/2.0 MB\u001b[0m \u001b[31m?\u001b[0m eta \u001b[36m-:--:--\u001b[0m\r\u001b[2K     \u001b[91m━\u001b[0m\u001b[90m╺\u001b[0m\u001b[90m━━━━━━━━━━━━━━━━━━━━━━━━━━━━━━━━━━━━━━\u001b[0m \u001b[32m0.1/2.0 MB\u001b[0m \u001b[31m1.9 MB/s\u001b[0m eta \u001b[36m0:00:02\u001b[0m\r\u001b[2K     \u001b[91m━━━━━━━━━━━━━━━━━━━━━━━\u001b[0m\u001b[90m╺\u001b[0m\u001b[90m━━━━━━━━━━━━━━━━\u001b[0m \u001b[32m1.1/2.0 MB\u001b[0m \u001b[31m16.5 MB/s\u001b[0m eta \u001b[36m0:00:01\u001b[0m\r\u001b[2K     \u001b[90m━━━━━━━━━━━━━━━━━━━━━━━━━━━━━━━━━━━━━━━━\u001b[0m \u001b[32m2.0/2.0 MB\u001b[0m \u001b[31m18.9 MB/s\u001b[0m eta \u001b[36m0:00:00\u001b[0m\n",
            "\u001b[?25hRequirement already satisfied: networkx in /usr/local/lib/python3.10/dist-packages (from pgmpy) (3.3)\n",
            "Requirement already satisfied: numpy in /usr/local/lib/python3.10/dist-packages (from pgmpy) (1.25.2)\n",
            "Requirement already satisfied: scipy in /usr/local/lib/python3.10/dist-packages (from pgmpy) (1.11.4)\n",
            "Requirement already satisfied: scikit-learn in /usr/local/lib/python3.10/dist-packages (from pgmpy) (1.2.2)\n",
            "Requirement already satisfied: pandas in /usr/local/lib/python3.10/dist-packages (from pgmpy) (2.0.3)\n",
            "Requirement already satisfied: pyparsing in /usr/local/lib/python3.10/dist-packages (from pgmpy) (3.1.2)\n",
            "Requirement already satisfied: torch in /usr/local/lib/python3.10/dist-packages (from pgmpy) (2.3.0+cu121)\n",
            "Requirement already satisfied: statsmodels in /usr/local/lib/python3.10/dist-packages (from pgmpy) (0.14.2)\n",
            "Requirement already satisfied: tqdm in /usr/local/lib/python3.10/dist-packages (from pgmpy) (4.66.4)\n",
            "Requirement already satisfied: joblib in /usr/local/lib/python3.10/dist-packages (from pgmpy) (1.4.2)\n",
            "Requirement already satisfied: opt-einsum in /usr/local/lib/python3.10/dist-packages (from pgmpy) (3.3.0)\n",
            "Requirement already satisfied: python-dateutil>=2.8.2 in /usr/local/lib/python3.10/dist-packages (from pandas->pgmpy) (2.8.2)\n",
            "Requirement already satisfied: pytz>=2020.1 in /usr/local/lib/python3.10/dist-packages (from pandas->pgmpy) (2023.4)\n",
            "Requirement already satisfied: tzdata>=2022.1 in /usr/local/lib/python3.10/dist-packages (from pandas->pgmpy) (2024.1)\n",
            "Requirement already satisfied: threadpoolctl>=2.0.0 in /usr/local/lib/python3.10/dist-packages (from scikit-learn->pgmpy) (3.5.0)\n",
            "Requirement already satisfied: patsy>=0.5.6 in /usr/local/lib/python3.10/dist-packages (from statsmodels->pgmpy) (0.5.6)\n",
            "Requirement already satisfied: packaging>=21.3 in /usr/local/lib/python3.10/dist-packages (from statsmodels->pgmpy) (24.0)\n",
            "Requirement already satisfied: filelock in /usr/local/lib/python3.10/dist-packages (from torch->pgmpy) (3.14.0)\n",
            "Requirement already satisfied: typing-extensions>=4.8.0 in /usr/local/lib/python3.10/dist-packages (from torch->pgmpy) (4.12.0)\n",
            "Requirement already satisfied: sympy in /usr/local/lib/python3.10/dist-packages (from torch->pgmpy) (1.12.1)\n",
            "Requirement already satisfied: jinja2 in /usr/local/lib/python3.10/dist-packages (from torch->pgmpy) (3.1.4)\n",
            "Requirement already satisfied: fsspec in /usr/local/lib/python3.10/dist-packages (from torch->pgmpy) (2023.6.0)\n",
            "Collecting nvidia-cuda-nvrtc-cu12==12.1.105 (from torch->pgmpy)\n",
            "  Using cached nvidia_cuda_nvrtc_cu12-12.1.105-py3-none-manylinux1_x86_64.whl (23.7 MB)\n",
            "Collecting nvidia-cuda-runtime-cu12==12.1.105 (from torch->pgmpy)\n",
            "  Using cached nvidia_cuda_runtime_cu12-12.1.105-py3-none-manylinux1_x86_64.whl (823 kB)\n",
            "Collecting nvidia-cuda-cupti-cu12==12.1.105 (from torch->pgmpy)\n",
            "  Using cached nvidia_cuda_cupti_cu12-12.1.105-py3-none-manylinux1_x86_64.whl (14.1 MB)\n",
            "Collecting nvidia-cudnn-cu12==8.9.2.26 (from torch->pgmpy)\n",
            "  Using cached nvidia_cudnn_cu12-8.9.2.26-py3-none-manylinux1_x86_64.whl (731.7 MB)\n",
            "Collecting nvidia-cublas-cu12==12.1.3.1 (from torch->pgmpy)\n",
            "  Using cached nvidia_cublas_cu12-12.1.3.1-py3-none-manylinux1_x86_64.whl (410.6 MB)\n",
            "Collecting nvidia-cufft-cu12==11.0.2.54 (from torch->pgmpy)\n",
            "  Using cached nvidia_cufft_cu12-11.0.2.54-py3-none-manylinux1_x86_64.whl (121.6 MB)\n",
            "Collecting nvidia-curand-cu12==10.3.2.106 (from torch->pgmpy)\n",
            "  Using cached nvidia_curand_cu12-10.3.2.106-py3-none-manylinux1_x86_64.whl (56.5 MB)\n",
            "Collecting nvidia-cusolver-cu12==11.4.5.107 (from torch->pgmpy)\n",
            "  Using cached nvidia_cusolver_cu12-11.4.5.107-py3-none-manylinux1_x86_64.whl (124.2 MB)\n",
            "Collecting nvidia-cusparse-cu12==12.1.0.106 (from torch->pgmpy)\n",
            "  Using cached nvidia_cusparse_cu12-12.1.0.106-py3-none-manylinux1_x86_64.whl (196.0 MB)\n",
            "Collecting nvidia-nccl-cu12==2.20.5 (from torch->pgmpy)\n",
            "  Using cached nvidia_nccl_cu12-2.20.5-py3-none-manylinux2014_x86_64.whl (176.2 MB)\n",
            "Collecting nvidia-nvtx-cu12==12.1.105 (from torch->pgmpy)\n",
            "  Using cached nvidia_nvtx_cu12-12.1.105-py3-none-manylinux1_x86_64.whl (99 kB)\n",
            "Requirement already satisfied: triton==2.3.0 in /usr/local/lib/python3.10/dist-packages (from torch->pgmpy) (2.3.0)\n",
            "Collecting nvidia-nvjitlink-cu12 (from nvidia-cusolver-cu12==11.4.5.107->torch->pgmpy)\n",
            "  Downloading nvidia_nvjitlink_cu12-12.5.40-py3-none-manylinux2014_x86_64.whl (21.3 MB)\n",
            "\u001b[2K     \u001b[90m━━━━━━━━━━━━━━━━━━━━━━━━━━━━━━━━━━━━━━━━\u001b[0m \u001b[32m21.3/21.3 MB\u001b[0m \u001b[31m54.6 MB/s\u001b[0m eta \u001b[36m0:00:00\u001b[0m\n",
            "\u001b[?25hRequirement already satisfied: six in /usr/local/lib/python3.10/dist-packages (from patsy>=0.5.6->statsmodels->pgmpy) (1.16.0)\n",
            "Requirement already satisfied: MarkupSafe>=2.0 in /usr/local/lib/python3.10/dist-packages (from jinja2->torch->pgmpy) (2.1.5)\n",
            "Requirement already satisfied: mpmath<1.4.0,>=1.1.0 in /usr/local/lib/python3.10/dist-packages (from sympy->torch->pgmpy) (1.3.0)\n",
            "Installing collected packages: nvidia-nvtx-cu12, nvidia-nvjitlink-cu12, nvidia-nccl-cu12, nvidia-curand-cu12, nvidia-cufft-cu12, nvidia-cuda-runtime-cu12, nvidia-cuda-nvrtc-cu12, nvidia-cuda-cupti-cu12, nvidia-cublas-cu12, nvidia-cusparse-cu12, nvidia-cudnn-cu12, nvidia-cusolver-cu12, pgmpy\n",
            "Successfully installed nvidia-cublas-cu12-12.1.3.1 nvidia-cuda-cupti-cu12-12.1.105 nvidia-cuda-nvrtc-cu12-12.1.105 nvidia-cuda-runtime-cu12-12.1.105 nvidia-cudnn-cu12-8.9.2.26 nvidia-cufft-cu12-11.0.2.54 nvidia-curand-cu12-10.3.2.106 nvidia-cusolver-cu12-11.4.5.107 nvidia-cusparse-cu12-12.1.0.106 nvidia-nccl-cu12-2.20.5 nvidia-nvjitlink-cu12-12.5.40 nvidia-nvtx-cu12-12.1.105 pgmpy-0.1.25\n"
          ]
        }
      ]
    },
    {
      "cell_type": "markdown",
      "source": [
        "1. Define the Bayesian Network\n",
        "Based on the provided graph, the variables are:\n",
        "\n",
        "\n",
        "\n",
        "*   Active Ing (Active Ingredient)\n",
        "* Food\n",
        "* Quantity\n",
        "* Effectiveness\n",
        "* Types of Effects\n",
        "\n",
        "We will use the pgmpy library to define the Bayesian Network.\n",
        "\n"
      ],
      "metadata": {
        "id": "Afy5_czAT7lV"
      }
    },
    {
      "cell_type": "code",
      "execution_count": 5,
      "metadata": {
        "id": "3EczYVz0TuqH"
      },
      "outputs": [],
      "source": [
        "from pgmpy.models import BayesianNetwork\n",
        "from pgmpy.factors.discrete import TabularCPD\n",
        "from pgmpy.inference import VariableElimination\n",
        "\n",
        "# Define the structure of the Bayesian Network\n",
        "model = BayesianNetwork([('ActiveIng', 'Effectiveness'),\n",
        "                         ('Food', 'Effectiveness'),\n",
        "                         ('Quantity', 'Effectiveness'),\n",
        "                         ('Effectiveness', 'TypesOfEffects')])\n",
        "\n",
        "# Define the CPDs (using dummy probabilities for illustration)\n",
        "cpd_active_ing = TabularCPD(variable='ActiveIng', variable_card=2, values=[[0.7], [0.3]])\n",
        "cpd_food = TabularCPD(variable='Food', variable_card=2, values=[[0.6], [0.4]])\n",
        "cpd_quantity = TabularCPD(variable='Quantity', variable_card=2, values=[[0.5], [0.5]])\n",
        "\n",
        "cpd_effectiveness = TabularCPD(variable='Effectiveness', variable_card=2,\n",
        "                               values=[[0.95, 0.8, 0.8, 0.6, 0.8, 0.6, 0.6, 0.2],\n",
        "                                       [0.05, 0.2, 0.2, 0.4, 0.2, 0.4, 0.4, 0.8]],\n",
        "                               evidence=['ActiveIng', 'Food', 'Quantity'],\n",
        "                               evidence_card=[2, 2, 2])\n",
        "\n",
        "cpd_types_of_effects = TabularCPD(variable='TypesOfEffects', variable_card=2,\n",
        "                                  values=[[0.9, 0.8],  # P(TypesOfEffects=0 | Effectiveness=0) and P(TypesOfEffects=0 | Effectiveness=1)\n",
        "                                          [0.1, 0.2]], # P(TypesOfEffects=1 | Effectiveness=0) and P(TypesOfEffects=1 | Effectiveness=1)\n",
        "                                  evidence=['Effectiveness'],\n",
        "                                  evidence_card=[2])\n",
        "\n",
        "# Add the CPDs to the model\n",
        "model.add_cpds(cpd_active_ing, cpd_food, cpd_quantity, cpd_effectiveness, cpd_types_of_effects)\n",
        "\n",
        "# Check if the model is valid\n",
        "assert model.check_model()\n",
        "\n",
        "# Define the inference object\n",
        "inference = VariableElimination(model)"
      ]
    },
    {
      "cell_type": "code",
      "source": [],
      "metadata": {
        "id": "HmWn1oqETxWN"
      },
      "execution_count": null,
      "outputs": []
    },
    {
      "cell_type": "markdown",
      "source": [
        "2. Data Preprocessing\n",
        "\n",
        "Extract relevant facts from the transcript. For simplicity, let's assume we have a dictionary of extracted facts."
      ],
      "metadata": {
        "id": "MwJatrCGUQKN"
      }
    },
    {
      "cell_type": "code",
      "source": [
        "# Example observations extracted from the transcript\n",
        "observations = {'ActiveIng': 1, 'Food': 0, 'Quantity': 1}\n"
      ],
      "metadata": {
        "id": "0LD3Lx1zUSez"
      },
      "execution_count": 6,
      "outputs": []
    },
    {
      "cell_type": "markdown",
      "source": [
        "3. Perform Inference and Generate Explanations\n",
        "\n",
        "Perform inference to compute the probability of Effectiveness and TypesOfEffects."
      ],
      "metadata": {
        "id": "NOv0e4HNUZ59"
      }
    },
    {
      "cell_type": "code",
      "source": [
        "# Perform inference to find the probability of Effectiveness\n",
        "prob_effectiveness = inference.query(variables=['Effectiveness'], evidence=observations)\n",
        "print(f\"Probability of Effectiveness: {prob_effectiveness}\")\n",
        "\n",
        "# Perform inference to find the probability of Types of Effects\n",
        "prob_types_of_effects = inference.query(variables=['TypesOfEffects'], evidence=observations)\n",
        "print(f\"Probability of Types of Effects: {prob_types_of_effects}\")\n",
        "\n",
        "# Generate explanations\n",
        "explanation_effectiveness = f\"Given the Active Ingredient, Food, and Quantity, the probability of Effectiveness being high is {prob_effectiveness.values[1]:.2f}.\"\n",
        "explanation_types_of_effects = f\"Given the Effectiveness, the probability of having significant Types of Effects is {prob_types_of_effects.values[1]:.2f}.\"\n",
        "\n",
        "print(f\"Explanation for Effectiveness: {explanation_effectiveness}\")\n",
        "print(f\"Explanation for Types of Effects: {explanation_types_of_effects}\")\n"
      ],
      "metadata": {
        "colab": {
          "base_uri": "https://localhost:8080/"
        },
        "id": "wv30eEM6UWek",
        "outputId": "66cc4882-39d7-41db-a77e-52aa55dd6598"
      },
      "execution_count": 7,
      "outputs": [
        {
          "output_type": "stream",
          "name": "stdout",
          "text": [
            "Probability of Effectiveness: +------------------+----------------------+\n",
            "| Effectiveness    |   phi(Effectiveness) |\n",
            "+==================+======================+\n",
            "| Effectiveness(0) |               0.6000 |\n",
            "+------------------+----------------------+\n",
            "| Effectiveness(1) |               0.4000 |\n",
            "+------------------+----------------------+\n",
            "Probability of Types of Effects: +-------------------+-----------------------+\n",
            "| TypesOfEffects    |   phi(TypesOfEffects) |\n",
            "+===================+=======================+\n",
            "| TypesOfEffects(0) |                0.8600 |\n",
            "+-------------------+-----------------------+\n",
            "| TypesOfEffects(1) |                0.1400 |\n",
            "+-------------------+-----------------------+\n",
            "Explanation for Effectiveness: Given the Active Ingredient, Food, and Quantity, the probability of Effectiveness being high is 0.40.\n",
            "Explanation for Types of Effects: Given the Effectiveness, the probability of having significant Types of Effects is 0.14.\n"
          ]
        }
      ]
    },
    {
      "cell_type": "code",
      "source": [],
      "metadata": {
        "id": "V-ZdcX_gUZsl"
      },
      "execution_count": null,
      "outputs": []
    }
  ]
}